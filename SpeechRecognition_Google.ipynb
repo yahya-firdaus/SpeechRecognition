{
  "nbformat": 4,
  "nbformat_minor": 0,
  "metadata": {
    "colab": {
      "name": "SpeechRecognition-Google.ipynb",
      "provenance": [],
      "collapsed_sections": [
        "SyE-_IDe1euf",
        "j7GDLFQF1iZ2",
        "xlvlw-5l1gni",
        "-fvIRtya1WMB"
      ]
    },
    "kernelspec": {
      "name": "python3",
      "display_name": "Python 3"
    }
  },
  "cells": [
    {
      "cell_type": "code",
      "metadata": {
        "colab": {
          "base_uri": "https://localhost:8080/"
        },
        "id": "4sWeGWAm1o8p",
        "outputId": "e7ae41fa-e591-4a5f-a93e-71abc0f63031"
      },
      "source": [
        "pathFile = input(\"Masukkan path file : \")"
      ],
      "execution_count": 34,
      "outputs": [
        {
          "output_type": "stream",
          "text": [
            "Masukkan path file : /content/TELKOMEU0001-ARDI.wav\n"
          ],
          "name": "stdout"
        }
      ]
    },
    {
      "cell_type": "markdown",
      "metadata": {
        "id": "SyE-_IDe1euf"
      },
      "source": [
        "## Install"
      ]
    },
    {
      "cell_type": "code",
      "metadata": {
        "colab": {
          "base_uri": "https://localhost:8080/"
        },
        "id": "eBU3CKn0owyd",
        "outputId": "1baa3836-ea0e-42d0-9499-63fbe1d9c656"
      },
      "source": [
        "!pip install SpeechRecognition"
      ],
      "execution_count": 35,
      "outputs": [
        {
          "output_type": "stream",
          "text": [
            "Requirement already satisfied: SpeechRecognition in /usr/local/lib/python3.6/dist-packages (3.8.1)\n"
          ],
          "name": "stdout"
        }
      ]
    },
    {
      "cell_type": "code",
      "metadata": {
        "colab": {
          "base_uri": "https://localhost:8080/"
        },
        "id": "F-eylHHRpBu7",
        "outputId": "b25bb254-b0cc-48ed-f4b4-18e5129e5a67"
      },
      "source": [
        "!apt install libasound2-dev portaudio19-dev libportaudio2 libportaudiocpp0 ffmpeg\r\n",
        "!pip install PyAudio"
      ],
      "execution_count": 36,
      "outputs": [
        {
          "output_type": "stream",
          "text": [
            "Reading package lists... Done\n",
            "Building dependency tree       \n",
            "Reading state information... Done\n",
            "libportaudio2 is already the newest version (19.6.0-1).\n",
            "libportaudiocpp0 is already the newest version (19.6.0-1).\n",
            "portaudio19-dev is already the newest version (19.6.0-1).\n",
            "libasound2-dev is already the newest version (1.1.3-5ubuntu0.5).\n",
            "ffmpeg is already the newest version (7:3.4.8-0ubuntu0.2).\n",
            "0 upgraded, 0 newly installed, 0 to remove and 17 not upgraded.\n",
            "Requirement already satisfied: PyAudio in /usr/local/lib/python3.6/dist-packages (0.2.11)\n"
          ],
          "name": "stdout"
        }
      ]
    },
    {
      "cell_type": "markdown",
      "metadata": {
        "id": "j7GDLFQF1iZ2"
      },
      "source": [
        "## Library"
      ]
    },
    {
      "cell_type": "code",
      "metadata": {
        "id": "0atVRGgK1iLn"
      },
      "source": [
        "import speech_recognition as sr  "
      ],
      "execution_count": 37,
      "outputs": []
    },
    {
      "cell_type": "markdown",
      "metadata": {
        "id": "xlvlw-5l1gni"
      },
      "source": [
        "## Proses"
      ]
    },
    {
      "cell_type": "code",
      "metadata": {
        "id": "-vjoTLnw1KK3"
      },
      "source": [
        "user_audio_file = sr.AudioFile(pathFile)\r\n",
        "with user_audio_file as source:\r\n",
        "    user_audio = r.record(source)\r\n",
        "text = r.recognize_google(user_audio, language='id-ID')"
      ],
      "execution_count": 38,
      "outputs": []
    },
    {
      "cell_type": "markdown",
      "metadata": {
        "id": "-fvIRtya1WMB"
      },
      "source": [
        "## Hasil"
      ]
    },
    {
      "cell_type": "code",
      "metadata": {
        "colab": {
          "base_uri": "https://localhost:8080/"
        },
        "id": "UJN-7seN1Nkj",
        "outputId": "47e6402b-f095-43d9-9551-b25b9677df08"
      },
      "source": [
        "print(text)"
      ],
      "execution_count": 39,
      "outputs": [
        {
          "output_type": "stream",
          "text": [
            "mohon info tagihan bulan ini\n"
          ],
          "name": "stdout"
        }
      ]
    }
  ]
}